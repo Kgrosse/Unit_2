{
 "cells": [
  {
   "cell_type": "markdown",
   "metadata": {},
   "source": [
    "This dataset describes land parcels in the City of Denver. The question to be answered is how do different variables in the dataset influence the total parcel value? "
   ]
  },
  {
   "cell_type": "code",
   "execution_count": 1,
   "metadata": {},
   "outputs": [],
   "source": [
    "%matplotlib inline\n",
    "import pandas as pd\n",
    "import numpy as np\n",
    "import seaborn as sns\n",
    "from matplotlib import pyplot as plt\n",
    "from scipy import stats"
   ]
  },
  {
   "cell_type": "code",
   "execution_count": 2,
   "metadata": {},
   "outputs": [
    {
     "name": "stderr",
     "output_type": "stream",
     "text": [
      "/Library/Frameworks/Python.framework/Versions/3.6/lib/python3.6/site-packages/IPython/core/interactiveshell.py:3020: DtypeWarning: Columns (0,1,32,52,54) have mixed types. Specify dtype option on import or set low_memory=False.\n",
      "  interactivity=interactivity, compiler=compiler, result=result)\n"
     ]
    }
   ],
   "source": [
    "df=pd.read_csv('parcels.csv')"
   ]
  },
  {
   "cell_type": "code",
   "execution_count": 4,
   "metadata": {},
   "outputs": [
    {
     "name": "stdout",
     "output_type": "stream",
     "text": [
      "          PIN     SCHEDNUM MAPNUM BLKNUM PARCELNUM APPENDAGE PARCEL_SOURCE  \\\n",
      "0   160820474  2.26543e+11   2265     43         4         0                 \n",
      "1   160785474  2.25247e+11   2252     47        15         0       Sanborn   \n",
      "2   160971316  2.35112e+11   2351     12         5         0                 \n",
      "3   161253047  5.10406e+11   5104      6        13         0       Sanborn   \n",
      "4   160791768  2.25342e+11   2253     42        16         0                 \n",
      "5   164176721  5.04413e+11   5044     13       103         0          None   \n",
      "6   160819441  2.26528e+11   2265     28        14         0       Sanborn   \n",
      "7   163177568  6.07105e+11   6071      5        17         0                 \n",
      "8   161204755  5.08333e+11   5083     33         8         0       Sanborn   \n",
      "9   161744903  6.05441e+11   6054     41         1         0                 \n",
      "10  162405074  2.18407e+11   2184      7        47         0       Sanborn   \n",
      "11  160781509  2.25214e+11   2252     14         9         0                 \n",
      "12  160910911  2.30427e+11   2304     27        23         0                 \n",
      "13  160756709  2.23115e+11   2231     15        17         0                 \n",
      "14  160765392  2.24216e+11   2242     16        11         0       Sanborn   \n",
      "15  161765951  6.06402e+11   6064      2        17         0                 \n",
      "16  160700835  2.20106e+11   2201      6        12         0                 \n",
      "17  161203767  5.08327e+11   5083     27         7         0       Sanborn   \n",
      "18  160774171  2.24434e+11   2244     34        37         0       Sanborn   \n",
      "19  164140328  5.01227e+11   5012     27        75         0          None   \n",
      "\n",
      "   SYSTEM_START_DATE                                OWNER_NAME  \\\n",
      "0     12/9/2010 0:00                         REYNOLDS,TRAVIS W   \n",
      "1     12/9/2010 0:00                    CRIBBEN,HILLARY HAMLIM   \n",
      "2     12/9/2010 0:00                              LOPEZ,ANDREW   \n",
      "3     12/9/2010 0:00                                TAFFE,GREG   \n",
      "4     12/9/2010 0:00                          KELLER,MELISSA D   \n",
      "5     8/11/2017 0:00                              NELSEN,JAN B   \n",
      "6     12/9/2010 0:00                        FAWKES,ELIZABETH P   \n",
      "7     12/9/2010 0:00                  REVISION REAL ESTATE LLC   \n",
      "8     12/9/2010 0:00                            ANDERSON,MITCH   \n",
      "9     12/9/2010 0:00                            GLENNY,LAURA B   \n",
      "10    12/8/2010 0:00                           ECHERY,BRANDY M   \n",
      "11    12/9/2010 0:00                          STARK,THEODORE A   \n",
      "12    12/8/2010 0:00                              STERN,ADAM B   \n",
      "13    12/9/2010 0:00     COLORADO DEPARTMENT OF TRANSPORTATION   \n",
      "14    12/9/2010 0:00  DEPT OF TRANSPORTATION STATE OF COLORADO   \n",
      "15    12/9/2010 0:00                           FEHLING,PATRICK   \n",
      "16    12/8/2010 0:00                           CHUNGFAT,NEIL C   \n",
      "17    12/9/2010 0:00                   GONZALEZ,MARIA VIRGINIA   \n",
      "18    12/9/2010 0:00                          AVOZANI,ANGELO D   \n",
      "19     2/9/2017 0:00                           ROWLAND,HENRY C   \n",
      "\n",
      "    OWNER_ADDRESS_LINE1      ...          D_CLASS_CN DCL12      ACT_ZONE  \\\n",
      "0   2634 N LAFAYETTE ST      ...       SINGLE FAMILY    11  U-SU-B1        \n",
      "1   3237 N JOSEPHINE ST      ...       SINGLE FAMILY    11  U-SU-A1        \n",
      "2    2452 N WILLIAMS ST      ...       SINGLE FAMILY    11  U-SU-B1        \n",
      "3       18 N SHERMAN ST      ...       SINGLE FAMILY    11  G-MU-3         \n",
      "4   2720 N COLUMBINE ST      ...       SINGLE FAMILY    11  U-SU-B1        \n",
      "5      2939 UMATILLA ST      ...            ROWHOUSE    19  G-MU-3         \n",
      "6    2821 N FRANKLIN ST      ...       SINGLE FAMILY    11  U-SU-B1        \n",
      "7      1337 DELAWARE ST      ...       SINGLE FAMILY    11  E-SU-DX        \n",
      "8          120 GROVE ST      ...       SINGLE FAMILY    11  E-SU-D1X       \n",
      "9        656 NIAGARA ST      ...       SINGLE FAMILY    11  E-SU-DX        \n",
      "10    5163 N RALEIGH ST      ...       SINGLE FAMILY    11  U-SU-C         \n",
      "11    3625 N CLAYTON ST      ...       SINGLE FAMILY    11  U-SU-B1        \n",
      "12      2695 QUITMAN ST      ...       SINGLE FAMILY    11  U-SU-C         \n",
      "13  4201 E ARKANSAS AVE      ...       SINGLE FAMILY    11  E-TU-B         \n",
      "14      4601 CLAYTON ST      ...       SINGLE FAMILY    11  E-SU-D         \n",
      "15        953 HUDSON ST      ...       SINGLE FAMILY    11  E-SU-DX        \n",
      "16      4701 DECATUR ST      ...       SINGLE FAMILY    11  U-SU-C         \n",
      "17          212 KNOX CT      ...       SINGLE FAMILY    11  E-SU-D1X       \n",
      "18       3875 N COOK ST      ...       SINGLE FAMILY    11  U-SU-B         \n",
      "19    1239 ELIZABETH ST      ...            ROWHOUSE    19  U-RH-3A        \n",
      "\n",
      "   IMP_AREA CCYRBLT ASAL_INSTR SALE_MONTHDAY SALE_YEAR SALE_PRICE  \\\n",
      "0      2032    1884         WD           401      2005     347000   \n",
      "1      1253    1919         QC          1111      2005       None   \n",
      "2      1791    1906         WD           720      2011     341000   \n",
      "3      1637    1901         WD           123      2012     260000   \n",
      "4      1378    1921         WD           531      2007     150000   \n",
      "5      1691    2016       None          None      None       None   \n",
      "6      1998    2012         WD           215      2012     153000   \n",
      "7      5472    2002         WD           815      2003    1760000   \n",
      "8      1158    1921         WD           531      1990       None   \n",
      "9       931    1948         WD           105      2016     400000   \n",
      "10     1031    1950         WD           715      2009     250675   \n",
      "11     1599    1896         WD           416      2009     185000   \n",
      "12     1858    1955         DC           824      2001       None   \n",
      "13     1051    1927         WD           121      2001      49500   \n",
      "14      811    1941         DC           212      2002       None   \n",
      "15     3068    2016         WD           529      2015     360000   \n",
      "16     1347    1948         WD          1112      2010     179570   \n",
      "17     1252    1907         QC           301      2014         10   \n",
      "18      986    1985         WD           309      2004     153000   \n",
      "19     1320    1907       None          None      None       None   \n",
      "\n",
      "   RECEPTION_NUM  \n",
      "0     2005062391  \n",
      "1     2005219729  \n",
      "2     2011082643  \n",
      "3     2012010498  \n",
      "4     2007102201  \n",
      "5           None  \n",
      "6     2012019132  \n",
      "7     JT00179978  \n",
      "8          47399  \n",
      "9     2016001100  \n",
      "10    2009091421  \n",
      "11    2009047625  \n",
      "12        115309  \n",
      "13         19977  \n",
      "14        143766  \n",
      "15    2015074924  \n",
      "16    2010138290  \n",
      "17    2014066022  \n",
      "18    2004075807  \n",
      "19          None  \n",
      "\n",
      "[20 rows x 61 columns]\n"
     ]
    }
   ],
   "source": [
    "print(df.head(20))"
   ]
  },
  {
   "cell_type": "code",
   "execution_count": 3,
   "metadata": {},
   "outputs": [
    {
     "data": {
      "text/plain": [
       "PIN                         0\n",
       "SCHEDNUM                    0\n",
       "MAPNUM                      0\n",
       "BLKNUM                      0\n",
       "PARCELNUM                   0\n",
       "APPENDAGE                   0\n",
       "PARCEL_SOURCE               0\n",
       "SYSTEM_START_DATE           0\n",
       "OWNER_NAME                  0\n",
       "OWNER_ADDRESS_LINE1         0\n",
       "OWNER_ADDRESS_LINE2         0\n",
       "OWNER_ADDR_NBR_PREFIX       0\n",
       "OWNER_ADDR_NBR              0\n",
       "OWNER_ADDR_NBR_SUFFIX       0\n",
       "OWNER_STR_NAME_PRE_MOD      0\n",
       "OWNER_STR_NAME_PRE_DIR      0\n",
       "OWNER_STR_NAME_PRE_TYPE     0\n",
       "OWNER_STR_NAME              0\n",
       "OWNER_STR_NAME_POST_TYPE    0\n",
       "OWNER_STR_NAME_POST_DIR     0\n",
       "OWNER_STR_NAME_POST_MOD     0\n",
       "OWNER_UNIT_TYPE             0\n",
       "OWNER_UNIT_IDENT            0\n",
       "OWNER_CITY                  0\n",
       "OWNER_STATE                 0\n",
       "OWNER_ZIP                   0\n",
       "SITUS_ADDRESS_ID            0\n",
       "SITUS_ADDRESS_LINE1         0\n",
       "SITUS_ADDRESS_LINE2         0\n",
       "SITUS_CITY                  0\n",
       "                           ..\n",
       "SITUS_ZIP                   0\n",
       "SITUS_ADDR_NBR              0\n",
       "SITUS_ADDR_NBR_SUFFIX       0\n",
       "SITUS_STR_NAME_PRE_MOD      0\n",
       "SITUS_STR_NAME_PRE_DIR      0\n",
       "SITUS_STR_NAME_PRE_TYPE     0\n",
       "SITUS_STR_NAME              0\n",
       "SITUS_STR_NAME_POST_TYPE    0\n",
       "SITUS_STR_NAME_POST_DIR     0\n",
       "SITUS_STR_NAME_POST_MOD     0\n",
       "SITUS_UNIT_TYPE             0\n",
       "SITUS_UNIT_IDENT            0\n",
       "TAX_DIST                    0\n",
       "LAND_VALUE                  0\n",
       "IMPROVEMENT_VALUE           0\n",
       "IMPROVEMENTS                0\n",
       "PROP_CLASS                  0\n",
       "TOTAL_VALUE                 0\n",
       "LAND                        0\n",
       "D_CLASS                     0\n",
       "D_CLASS_CN                  0\n",
       "DCL12                       0\n",
       "ACT_ZONE                    0\n",
       "IMP_AREA                    0\n",
       "CCYRBLT                     0\n",
       "ASAL_INSTR                  0\n",
       "SALE_MONTHDAY               0\n",
       "SALE_YEAR                   0\n",
       "SALE_PRICE                  0\n",
       "RECEPTION_NUM               0\n",
       "Length: 61, dtype: int64"
      ]
     },
     "execution_count": 3,
     "metadata": {},
     "output_type": "execute_result"
    }
   ],
   "source": [
    "#Check for null values\n",
    "df.isna().sum()"
   ]
  },
  {
   "cell_type": "markdown",
   "metadata": {},
   "source": [
    "# Exploring the Data\n",
    "Below are basic questions followed by the code used to answer the questions.\n",
    "\n",
    "## How many variables do I have?\n",
    "There are a total of 61 variables (columns) in the data set. \n",
    "\n",
    "## How many datapoints?\n",
    "There are 231,905 data points and 231,885 unique data points\n",
    "\n",
    "## Which variables are continuous (having an infinite number of possible values, such as age) and which are categorical (having a limited number of values, such as gender).\n",
    "Since there are 61 variables in this data set, I am going to select a subset of the variables. The outcome variable will be Total Value (TOTAL_VALUE). This variable is continuous. The other variables evaluated are Sale Price 'SALE_PRICE'(continuous), zip code the parcel is in 'SITUS_ZIP' (categorical), home type 'D_CLASS_CN' (categorical), Sale year 'SALE_YEAR'(categorical), and zone 'ACT_ZONE'(categorical).\n",
    "\n",
    "\n",
    "## Do I have missing data? If so, how much?\n",
    "386 values are missing from the Type 2 column, presumably because there simply is no measurement of it for those Pokemons.\n",
    "\n",
    "## How much variance is there in each of my variables?\n",
    "This is described in the one of the results for this section"
   ]
  },
  {
   "cell_type": "code",
   "execution_count": 4,
   "metadata": {},
   "outputs": [
    {
     "data": {
      "text/plain": [
       "['PIN',\n",
       " 'SCHEDNUM',\n",
       " 'MAPNUM',\n",
       " 'BLKNUM',\n",
       " 'PARCELNUM',\n",
       " 'APPENDAGE',\n",
       " 'PARCEL_SOURCE',\n",
       " 'SYSTEM_START_DATE',\n",
       " 'OWNER_NAME',\n",
       " 'OWNER_ADDRESS_LINE1',\n",
       " 'OWNER_ADDRESS_LINE2',\n",
       " 'OWNER_ADDR_NBR_PREFIX',\n",
       " 'OWNER_ADDR_NBR',\n",
       " 'OWNER_ADDR_NBR_SUFFIX',\n",
       " 'OWNER_STR_NAME_PRE_MOD',\n",
       " 'OWNER_STR_NAME_PRE_DIR',\n",
       " 'OWNER_STR_NAME_PRE_TYPE',\n",
       " 'OWNER_STR_NAME',\n",
       " 'OWNER_STR_NAME_POST_TYPE',\n",
       " 'OWNER_STR_NAME_POST_DIR',\n",
       " 'OWNER_STR_NAME_POST_MOD',\n",
       " 'OWNER_UNIT_TYPE',\n",
       " 'OWNER_UNIT_IDENT',\n",
       " 'OWNER_CITY',\n",
       " 'OWNER_STATE',\n",
       " 'OWNER_ZIP',\n",
       " 'SITUS_ADDRESS_ID',\n",
       " 'SITUS_ADDRESS_LINE1',\n",
       " 'SITUS_ADDRESS_LINE2',\n",
       " 'SITUS_CITY',\n",
       " 'SITUS_STATE',\n",
       " 'SITUS_ZIP',\n",
       " 'SITUS_ADDR_NBR',\n",
       " 'SITUS_ADDR_NBR_SUFFIX',\n",
       " 'SITUS_STR_NAME_PRE_MOD',\n",
       " 'SITUS_STR_NAME_PRE_DIR',\n",
       " 'SITUS_STR_NAME_PRE_TYPE',\n",
       " 'SITUS_STR_NAME',\n",
       " 'SITUS_STR_NAME_POST_TYPE',\n",
       " 'SITUS_STR_NAME_POST_DIR',\n",
       " 'SITUS_STR_NAME_POST_MOD',\n",
       " 'SITUS_UNIT_TYPE',\n",
       " 'SITUS_UNIT_IDENT',\n",
       " 'TAX_DIST',\n",
       " 'LAND_VALUE',\n",
       " 'IMPROVEMENT_VALUE',\n",
       " 'IMPROVEMENTS',\n",
       " 'PROP_CLASS',\n",
       " 'TOTAL_VALUE',\n",
       " 'LAND',\n",
       " 'D_CLASS',\n",
       " 'D_CLASS_CN',\n",
       " 'DCL12',\n",
       " 'ACT_ZONE',\n",
       " 'IMP_AREA',\n",
       " 'CCYRBLT',\n",
       " 'ASAL_INSTR',\n",
       " 'SALE_MONTHDAY',\n",
       " 'SALE_YEAR',\n",
       " 'SALE_PRICE',\n",
       " 'RECEPTION_NUM']"
      ]
     },
     "execution_count": 4,
     "metadata": {},
     "output_type": "execute_result"
    }
   ],
   "source": [
    "list(df)"
   ]
  },
  {
   "cell_type": "code",
   "execution_count": 5,
   "metadata": {},
   "outputs": [
    {
     "name": "stdout",
     "output_type": "stream",
     "text": [
      "61\n"
     ]
    }
   ],
   "source": [
    "# Count how many variables I have\n",
    "print(len(list(df)))"
   ]
  },
  {
   "cell_type": "code",
   "execution_count": 6,
   "metadata": {},
   "outputs": [
    {
     "name": "stdout",
     "output_type": "stream",
     "text": [
      "PIN                         231905\n",
      "SCHEDNUM                    231905\n",
      "MAPNUM                      231905\n",
      "BLKNUM                      231905\n",
      "PARCELNUM                   231905\n",
      "APPENDAGE                   231905\n",
      "PARCEL_SOURCE               231905\n",
      "SYSTEM_START_DATE           231905\n",
      "OWNER_NAME                  231905\n",
      "OWNER_ADDRESS_LINE1         231905\n",
      "OWNER_ADDRESS_LINE2         231905\n",
      "OWNER_ADDR_NBR_PREFIX       231905\n",
      "OWNER_ADDR_NBR              231905\n",
      "OWNER_ADDR_NBR_SUFFIX       231905\n",
      "OWNER_STR_NAME_PRE_MOD      231905\n",
      "OWNER_STR_NAME_PRE_DIR      231905\n",
      "OWNER_STR_NAME_PRE_TYPE     231905\n",
      "OWNER_STR_NAME              231905\n",
      "OWNER_STR_NAME_POST_TYPE    231905\n",
      "OWNER_STR_NAME_POST_DIR     231905\n",
      "OWNER_STR_NAME_POST_MOD     231905\n",
      "OWNER_UNIT_TYPE             231905\n",
      "OWNER_UNIT_IDENT            231905\n",
      "OWNER_CITY                  231905\n",
      "OWNER_STATE                 231905\n",
      "OWNER_ZIP                   231905\n",
      "SITUS_ADDRESS_ID            231905\n",
      "SITUS_ADDRESS_LINE1         231905\n",
      "SITUS_ADDRESS_LINE2         231905\n",
      "SITUS_CITY                  231905\n",
      "                             ...  \n",
      "SITUS_ZIP                   231905\n",
      "SITUS_ADDR_NBR              231905\n",
      "SITUS_ADDR_NBR_SUFFIX       231905\n",
      "SITUS_STR_NAME_PRE_MOD      231905\n",
      "SITUS_STR_NAME_PRE_DIR      231905\n",
      "SITUS_STR_NAME_PRE_TYPE     231905\n",
      "SITUS_STR_NAME              231905\n",
      "SITUS_STR_NAME_POST_TYPE    231905\n",
      "SITUS_STR_NAME_POST_DIR     231905\n",
      "SITUS_STR_NAME_POST_MOD     231905\n",
      "SITUS_UNIT_TYPE             231905\n",
      "SITUS_UNIT_IDENT            231905\n",
      "TAX_DIST                    231905\n",
      "LAND_VALUE                  231905\n",
      "IMPROVEMENT_VALUE           231905\n",
      "IMPROVEMENTS                231905\n",
      "PROP_CLASS                  231905\n",
      "TOTAL_VALUE                 231905\n",
      "LAND                        231905\n",
      "D_CLASS                     231905\n",
      "D_CLASS_CN                  231905\n",
      "DCL12                       231905\n",
      "ACT_ZONE                    231905\n",
      "IMP_AREA                    231905\n",
      "CCYRBLT                     231905\n",
      "ASAL_INSTR                  231905\n",
      "SALE_MONTHDAY               231905\n",
      "SALE_YEAR                   231905\n",
      "SALE_PRICE                  231905\n",
      "RECEPTION_NUM               231905\n",
      "Length: 61, dtype: int64\n",
      "231884\n"
     ]
    }
   ],
   "source": [
    "#Count number of data points\n",
    "print(df.count())\n",
    "#Count number of unique data points (PIN is the identifier for each separate parcel)\n",
    "print(df.PIN.nunique())"
   ]
  },
  {
   "cell_type": "code",
   "execution_count": 7,
   "metadata": {},
   "outputs": [],
   "source": [
    "#drop duplicate rows\n",
    "df.drop_duplicates(subset='PIN', keep='first', inplace=True)"
   ]
  },
  {
   "cell_type": "code",
   "execution_count": 112,
   "metadata": {},
   "outputs": [
    {
     "name": "stdout",
     "output_type": "stream",
     "text": [
      "   TOTAL_VALUE SALE_PRICE IMP_AREA   SITUS_ZIP     D_CLASS_CN SALE_YEAR  \\\n",
      "0       691700     347000     2032  80205-4447  SINGLE FAMILY      2005   \n",
      "1       463000       None     1253  80205-4154  SINGLE FAMILY      2005   \n",
      "2       530900     341000     1791  80205-5524  SINGLE FAMILY      2011   \n",
      "3       550500     260000     1637  80203-4002  SINGLE FAMILY      2012   \n",
      "4       458800     150000     1378  80205-4742  SINGLE FAMILY      2007   \n",
      "5       463700       None     1691        None       ROWHOUSE      None   \n",
      "6       773000     153000     1998  80205-4510  SINGLE FAMILY      2012   \n",
      "7      2029500    1760000     5472  80220-5173  SINGLE FAMILY      2003   \n",
      "8       190600       None     1158  80219-1514  SINGLE FAMILY      1990   \n",
      "9       418500     400000      931  80220-5510  SINGLE FAMILY      2016   \n",
      "10      408500     250675     1031  80212-2609  SINGLE FAMILY      2009   \n",
      "11      335700     185000     1599  80205-3627  SINGLE FAMILY      2009   \n",
      "12      612900       None     1858  80212-1212  SINGLE FAMILY      2001   \n",
      "13      169000      49500     1051  80216-2822  SINGLE FAMILY      2001   \n",
      "14      226400       None      811  80216-2948  SINGLE FAMILY      2002   \n",
      "15     1126100     360000     3068  80220-4438  SINGLE FAMILY      2015   \n",
      "16      553000     179570     1347  80211-1142  SINGLE FAMILY      2010   \n",
      "17      257600         10     1252  80219-1440  SINGLE FAMILY      2014   \n",
      "18      217900     153000      986  80205-3739  SINGLE FAMILY      2004   \n",
      "19      398300       None     1320  80206-3219       ROWHOUSE      None   \n",
      "\n",
      "        ACT_ZONE  \n",
      "0   U-SU-B1       \n",
      "1   U-SU-A1       \n",
      "2   U-SU-B1       \n",
      "3   G-MU-3        \n",
      "4   U-SU-B1       \n",
      "5   G-MU-3        \n",
      "6   U-SU-B1       \n",
      "7   E-SU-DX       \n",
      "8   E-SU-D1X      \n",
      "9   E-SU-DX       \n",
      "10  U-SU-C        \n",
      "11  U-SU-B1       \n",
      "12  U-SU-C        \n",
      "13  E-TU-B        \n",
      "14  E-SU-D        \n",
      "15  E-SU-DX       \n",
      "16  U-SU-C        \n",
      "17  E-SU-D1X      \n",
      "18  U-SU-B        \n",
      "19  U-RH-3A       \n"
     ]
    }
   ],
   "source": [
    "#create data frames with varaibles we want\n",
    "df2 = df.loc[:,['TOTAL_VALUE', 'SALE_PRICE', 'IMP_AREA','SITUS_ZIP', 'D_CLASS_CN', 'SALE_YEAR', 'ACT_ZONE']]\n",
    "print(df2.head(20))"
   ]
  },
  {
   "cell_type": "code",
   "execution_count": 113,
   "metadata": {},
   "outputs": [],
   "source": [
    "#remove rows where column = None\n",
    "df2=df2[df2['TOTAL_VALUE']!='None']\n",
    "df2=df2[df2['SALE_PRICE']!='None']\n",
    "df2=df2[df2['SITUS_ZIP']!='None']\n",
    "df2=df2[df2['IMP_AREA']!='None']\n",
    "df2=df2[df2['D_CLASS_CN']!='None']\n",
    "df2=df2[df2['SALE_YEAR']!='None']\n",
    "df2=df2[df2['ACT_ZONE']!='None']"
   ]
  },
  {
   "cell_type": "code",
   "execution_count": 114,
   "metadata": {},
   "outputs": [
    {
     "data": {
      "text/plain": [
       "139692"
      ]
     },
     "execution_count": 114,
     "metadata": {},
     "output_type": "execute_result"
    }
   ],
   "source": [
    "#Get new length of data\n",
    "len(df2)"
   ]
  },
  {
   "cell_type": "code",
   "execution_count": 115,
   "metadata": {},
   "outputs": [
    {
     "data": {
      "text/plain": [
       "TOTAL_VALUE    object\n",
       "SALE_PRICE     object\n",
       "IMP_AREA       object\n",
       "SITUS_ZIP      object\n",
       "D_CLASS_CN     object\n",
       "SALE_YEAR      object\n",
       "ACT_ZONE       object\n",
       "dtype: object"
      ]
     },
     "execution_count": 115,
     "metadata": {},
     "output_type": "execute_result"
    }
   ],
   "source": [
    "#Look at data types\n",
    "df2.dtypes"
   ]
  },
  {
   "cell_type": "code",
   "execution_count": 118,
   "metadata": {},
   "outputs": [],
   "source": [
    "#Convert total value to integet\n",
    "df2['TOTAL_VALUE']=df2['TOTAL_VALUE'].astype(int)\n",
    "#convert Sale Price to integer\n",
    "df2['SALE_PRICE']=df2['SALE_PRICE'].astype(int)\n",
    "#convert Zip Code to string\n",
    "df2['SITUS_ZIP']=df2['SITUS_ZIP'].astype(str)\n",
    "#Convert home type to text\n",
    "df2['D_CLASS_CN']=df2['D_CLASS_CN'].astype(str)\n",
    "#Convert improvement area to integer\n",
    "df2['IMP_AREA']=df2['IMP_AREA'].astype(int)\n",
    "#Convert Sale year to integer\n",
    "df2['SALE_YEAR']=df2['SALE_YEAR'].astype(int)\n",
    "#Convert zone to text\n",
    "df2['ACT_ZONE']=df2['ACT_ZONE'].astype(str)"
   ]
  },
  {
   "cell_type": "code",
   "execution_count": 119,
   "metadata": {},
   "outputs": [
    {
     "data": {
      "text/plain": [
       "TOTAL_VALUE     int64\n",
       "SALE_PRICE      int64\n",
       "IMP_AREA        int64\n",
       "SITUS_ZIP      object\n",
       "D_CLASS_CN     object\n",
       "SALE_YEAR       int64\n",
       "ACT_ZONE       object\n",
       "dtype: object"
      ]
     },
     "execution_count": 119,
     "metadata": {},
     "output_type": "execute_result"
    }
   ],
   "source": [
    "#Check new data types\n",
    "df2.dtypes"
   ]
  },
  {
   "cell_type": "code",
   "execution_count": 120,
   "metadata": {},
   "outputs": [
    {
     "data": {
      "text/plain": [
       "Text(0, 0.5, 'Sale Price')"
      ]
     },
     "execution_count": 120,
     "metadata": {},
     "output_type": "execute_result"
    },
    {
     "data": {
      "image/png": "[encoded data removed]",
      "text/plain": [
       "<Figure size 432x288 with 1 Axes>"
      ]
     },
     "metadata": {
      "needs_background": "light"
     },
     "output_type": "display_data"
    }
   ],
   "source": [
    "#Show relationship between continuous variables\n",
    "plt.scatter(df2.TOTAL_VALUE, df2.SALE_PRICE)\n",
    "plt.xlabel('Total Value')\n",
    "plt.ylabel('Sale Price')"
   ]
  },
  {
   "cell_type": "code",
   "execution_count": 121,
   "metadata": {},
   "outputs": [
    {
     "data": {
      "text/plain": [
       "Text(0, 0.5, 'Improvement Area')"
      ]
     },
     "execution_count": 121,
     "metadata": {},
     "output_type": "execute_result"
    },
    {
     "data": {
      "image/png": "[encoded data removed]",
      "text/plain": [
       "<Figure size 432x288 with 1 Axes>"
      ]
     },
     "metadata": {
      "needs_background": "light"
     },
     "output_type": "display_data"
    }
   ],
   "source": [
    "plt.scatter(df2.TOTAL_VALUE, df2.IMP_AREA)\n",
    "plt.xlabel('Total Value')\n",
    "plt.ylabel('Improvement Area')"
   ]
  },
  {
   "cell_type": "code",
   "execution_count": 122,
   "metadata": {},
   "outputs": [
    {
     "data": {
      "text/plain": [
       "Text(0, 0.5, 'Improvement Area')"
      ]
     },
     "execution_count": 122,
     "metadata": {},
     "output_type": "execute_result"
    },
    {
     "data": {
      "image/png": "[encoded data removed]",
      "text/plain": [
       "<Figure size 432x288 with 1 Axes>"
      ]
     },
     "metadata": {
      "needs_background": "light"
     },
     "output_type": "display_data"
    }
   ],
   "source": [
    "plt.scatter(df2.SALE_PRICE, df2.IMP_AREA)\n",
    "plt.xlabel('Sale Price')\n",
    "plt.ylabel('Improvement Area')"
   ]
  },
  {
   "cell_type": "code",
   "execution_count": 54,
   "metadata": {},
   "outputs": [
    {
     "data": {
      "text/plain": [
       "count    1.396920e+05\n",
       "mean     5.902287e+05\n",
       "std      3.241627e+06\n",
       "min      1.000000e+02\n",
       "25%      2.508000e+05\n",
       "50%      3.561000e+05\n",
       "75%      5.188250e+05\n",
       "max      4.266992e+08\n",
       "Name: TOTAL_VALUE, dtype: float64"
      ]
     },
     "execution_count": 54,
     "metadata": {},
     "output_type": "execute_result"
    }
   ],
   "source": [
    "#Describe the continuous variables\n",
    "\n",
    "df2.TOTAL_VALUE.describe()"
   ]
  },
  {
   "cell_type": "code",
   "execution_count": 55,
   "metadata": {},
   "outputs": [
    {
     "data": {
      "text/plain": [
       "count    1.396920e+05\n",
       "mean     4.250043e+05\n",
       "std      3.901409e+06\n",
       "min      1.000000e+00\n",
       "25%      7.600000e+04\n",
       "50%      1.900000e+05\n",
       "75%      3.450000e+05\n",
       "max      3.875000e+08\n",
       "Name: SALE_PRICE, dtype: float64"
      ]
     },
     "execution_count": 55,
     "metadata": {},
     "output_type": "execute_result"
    }
   ],
   "source": [
    "df2.SALE_PRICE.describe()"
   ]
  },
  {
   "cell_type": "code",
   "execution_count": 123,
   "metadata": {},
   "outputs": [
    {
     "data": {
      "text/plain": [
       "count    1.396920e+05\n",
       "mean     2.040371e+03\n",
       "std      1.055476e+04\n",
       "min      0.000000e+00\n",
       "25%      9.140000e+02\n",
       "50%      1.202000e+03\n",
       "75%      1.748000e+03\n",
       "max      1.026931e+06\n",
       "Name: IMP_AREA, dtype: float64"
      ]
     },
     "execution_count": 123,
     "metadata": {},
     "output_type": "execute_result"
    }
   ],
   "source": [
    "df2.IMP_AREA.describe()"
   ]
  },
  {
   "cell_type": "code",
   "execution_count": 124,
   "metadata": {},
   "outputs": [
    {
     "name": "stdout",
     "output_type": "stream",
     "text": [
      "             TOTAL_VALUE  SALE_PRICE  IMP_AREA  SALE_YEAR\n",
      "TOTAL_VALUE     1.000000    0.667228  0.497451   0.015818\n",
      "SALE_PRICE      0.667228    1.000000  0.447241   0.031592\n",
      "IMP_AREA        0.497451    0.447241  1.000000   0.002012\n",
      "SALE_YEAR       0.015818    0.031592  0.002012   1.000000\n"
     ]
    }
   ],
   "source": [
    "#Create correlation matrix between total value, sale price, sale year, and year built\n",
    "corrmat = df2.corr()\n",
    "print(corrmat)"
   ]
  },
  {
   "cell_type": "markdown",
   "metadata": {},
   "source": [
    "# Creating Features\n",
    "We want to figure out how to plot out the categorical data. The first step is to explore the categorical data and figure out how to pair down and bucket the number of unique values."
   ]
  },
  {
   "cell_type": "code",
   "execution_count": 56,
   "metadata": {},
   "outputs": [
    {
     "data": {
      "text/plain": [
       "30956"
      ]
     },
     "execution_count": 56,
     "metadata": {},
     "output_type": "execute_result"
    }
   ],
   "source": [
    "#look at the number of zip codes\n",
    "len(df2.SITUS_ZIP.unique())"
   ]
  },
  {
   "cell_type": "code",
   "execution_count": 180,
   "metadata": {},
   "outputs": [
    {
     "name": "stdout",
     "output_type": "stream",
     "text": [
      "45\n"
     ]
    },
    {
     "data": {
      "text/plain": [
       "80219    10255\n",
       "80210     9313\n",
       "80220     8451\n",
       "80211     8283\n",
       "80249     6949\n",
       "80209     6440\n",
       "80205     6421\n",
       "80239     6141\n",
       "80238     5901\n",
       "80206     5281\n",
       "80204     4934\n",
       "80207     4878\n",
       "80218     4626\n",
       "80202     4537\n",
       "80212     4297\n",
       "80237     4277\n",
       "80203     4146\n",
       "80222     4082\n",
       "80231     3998\n",
       "80223     3904\n",
       "80247     3630\n",
       "80224     3552\n",
       "80123     3464\n",
       "80236     2723\n",
       "80216     2091\n",
       "80230     1955\n",
       "80227     1550\n",
       "80221     1345\n",
       "80246     1158\n",
       "80235      958\n",
       "80226       47\n",
       "80214       46\n",
       "80232       21\n",
       "CO 80        8\n",
       "80014        7\n",
       "80012        7\n",
       "CO           4\n",
       "80293        3\n",
       "80264        2\n",
       "80022        2\n",
       "80033        1\n",
       "80265        1\n",
       "80274        1\n",
       "80294        1\n",
       "80290        1\n",
       "Name: SITUS_ZIP, dtype: int64"
      ]
     },
     "execution_count": 180,
     "metadata": {},
     "output_type": "execute_result"
    }
   ],
   "source": [
    "#pare down the number by getting only first five digits of zip code\n",
    "df2['SITUS_ZIP'] = df['SITUS_ZIP'].str[:5]\n",
    "print(df2.SITUS_ZIP.nunique())\n",
    "df2.SITUS_ZIP.value_counts()"
   ]
  },
  {
   "cell_type": "code",
   "execution_count": 59,
   "metadata": {
    "scrolled": true
   },
   "outputs": [
    {
     "name": "stdout",
     "output_type": "stream",
     "text": [
      "158\n"
     ]
    },
    {
     "data": {
      "text/plain": [
       "E-SU-DX         15826\n",
       "S-SU-D          13540\n",
       "U-SU-C          10612\n",
       "R-2-A            8826\n",
       "R-2              5514\n",
       "S-SU-F           4984\n",
       "R-MU-20          4935\n",
       "PUD              4431\n",
       "U-SU-B           4015\n",
       "U-SU-B1          3884\n",
       "R-1              3537\n",
       "G-MU-3           3381\n",
       "G-MU-5           3114\n",
       "U-TU-C           2798\n",
       "U-RH-2.5         2665\n",
       "C-MU-20          2430\n",
       "E-SU-D1X         2140\n",
       "O-1              1984\n",
       "E-SU-D           1795\n",
       "U-TU-B           1758\n",
       "D-TD             1670\n",
       "E-TU-C           1580\n",
       "U-SU-C1          1533\n",
       "G-RH-3           1297\n",
       "M-RX-5           1202\n",
       "U-RH-3A          1159\n",
       "U-SU-A1          1089\n",
       "E-SU-B           1066\n",
       "E-SU-G           1039\n",
       "C-MX-5            993\n",
       "                ...  \n",
       "T-MU-30             9\n",
       "OS-A                9\n",
       "C-RX-5              8\n",
       "CMP-EI2             8\n",
       "C-CCN-8             8\n",
       "I-0                 7\n",
       "S-MX-8              7\n",
       "M-IMX-5             6\n",
       "R-3-X               6\n",
       "R-4-X               5\n",
       "OS-B                4\n",
       "E-MS-2X             4\n",
       "C-MX-20             4\n",
       "U-RX-5              4\n",
       "C-MS-12             3\n",
       "CCN                 2\n",
       "C-RX-12             2\n",
       "MS-3                2\n",
       "B-A-4               2\n",
       "MS-1                2\n",
       "CMP-NWC             2\n",
       "OS-1                1\n",
       "M-IMX-12            1\n",
       "C-RX-8              1\n",
       "PUD-14              1\n",
       "PUDS                1\n",
       "E-MX-2A             1\n",
       "R-5                 1\n",
       "B-8-A               1\n",
       "PUD-55              1\n",
       "Name: ACT_ZONE, Length: 158, dtype: int64"
      ]
     },
     "execution_count": 59,
     "metadata": {},
     "output_type": "execute_result"
    }
   ],
   "source": [
    "#Lets look at the next variable: zoning codes\n",
    "print(df2.ACT_ZONE.nunique())\n",
    "df2.ACT_ZONE.value_counts()"
   ]
  },
  {
   "cell_type": "code",
   "execution_count": 197,
   "metadata": {},
   "outputs": [],
   "source": [
    "#Classify the different zoning codes\n",
    "\n",
    "ZONING_DISTRICT = []\n",
    "\n",
    "for index,row in df2.iterrows():\n",
    "    if row['ACT_ZONE'].startswith('S'):\n",
    "        ZONING_DISTRICT.append('Suburban')\n",
    "    elif row['ACT_ZONE'].startswith('E'):\n",
    "        ZONING_DISTRICT.append('Urban Edge')\n",
    "    elif row['ACT_ZONE'].startswith('U'):\n",
    "        ZONING_DISTRICT.append('Urban')\n",
    "    elif row['ACT_ZONE'].startswith('G'):\n",
    "        ZONING_DISTRICT.append('General Urban')\n",
    "    elif row['ACT_ZONE'].startswith('C'):\n",
    "        ZONING_DISTRICT.append('Urban Center')\n",
    "    elif row['ACT_ZONE'].startswith('D'):\n",
    "        ZONING_DISTRICT.append('Downtown')\n",
    "    elif row['ACT_ZONE'].startswith('I'):\n",
    "        ZONING_DISTRICT.append('Industrial')\n",
    "    elif row['ACT_ZONE'].startswith('CMP'):\n",
    "        ZONING_DISTRICT.append('Campus')\n",
    "    elif row['ACT_ZONE'].startswith('OS'):\n",
    "        ZONING_DISTRICT.append('Open Space')\n",
    "    elif row['ACT_ZONE'].startswith('M'):\n",
    "        ZONING_DISTRICT.append('Master Planned')\n",
    "    elif row['ACT_ZONE'].startswith('UO'):\n",
    "        ZONING_DISTRICT.append('Use Overlay District')\n",
    "    elif row['ACT_ZONE'].startswith('CO'):\n",
    "        ZONING_DISTRICT.append('Conservation Overlay District')\n",
    "    elif row['ACT_ZONE'].startswith('DO'):\n",
    "        ZONING_DISTRICT.append('Design Overlay District')\n",
    "    elif row['ACT_ZONE'].startswith('IO'):\n",
    "        ZONING_DISTRICT.append('Incentive Overlay District')\n",
    "    elif row['ACT_ZONE'].startswith('AIO'):\n",
    "        ZONING_DISTRICT.append('Airport Influence Overlay District')\n",
    "    elif row['ACT_ZONE'].startswith('PUD'):\n",
    "        ZONING_DISTRICT.append('Planned Unit Development')\n",
    "    elif row['ACT_ZONE'].startswith('DIA'):\n",
    "        ZONING_DISTRICT.append('Denver International Airport')\n",
    "    elif row['ACT_ZONE'].startswith('O-1'):\n",
    "        ZONING_DISTRICT.append('Open Zone District')\n",
    "    elif row['ACT_ZONE'].startswith('R'):\n",
    "        ZONING_DISTRICT.append('Residential')\n",
    "    else:\n",
    "        ZONING_DISTRICT.append('Other')\n",
    "        \n",
    "df2['ZONING_DISTRICT']= ZONING_DISTRICT"
   ]
  },
  {
   "cell_type": "code",
   "execution_count": 23,
   "metadata": {},
   "outputs": [
    {
     "name": "stdout",
     "output_type": "stream",
     "text": [
      "13\n"
     ]
    }
   ],
   "source": [
    "df2.NEIGHBORHOOD.head(20)\n",
    "print(df2.NEIGHBORHOOD.nunique())"
   ]
  },
  {
   "cell_type": "code",
   "execution_count": 27,
   "metadata": {},
   "outputs": [
    {
     "name": "stdout",
     "output_type": "stream",
     "text": [
      "45\n"
     ]
    }
   ],
   "source": [
    "#Lets look at the number of sale years we have\n",
    "\n",
    "print(df2.SALE_YEAR.nunique())"
   ]
  },
  {
   "cell_type": "code",
   "execution_count": 179,
   "metadata": {},
   "outputs": [
    {
     "name": "stdout",
     "output_type": "stream",
     "text": [
      "0         (2004.222, 2010.111]\n",
      "2           (2010.111, 2016.0]\n",
      "3           (2010.111, 2016.0]\n",
      "4         (2004.222, 2010.111]\n",
      "6           (2010.111, 2016.0]\n",
      "7         (1998.333, 2004.222]\n",
      "9           (2010.111, 2016.0]\n",
      "10        (2004.222, 2010.111]\n",
      "11        (2004.222, 2010.111]\n",
      "13        (1998.333, 2004.222]\n",
      "15          (2010.111, 2016.0]\n",
      "16        (2004.222, 2010.111]\n",
      "17          (2010.111, 2016.0]\n",
      "18        (1998.333, 2004.222]\n",
      "21          (2010.111, 2016.0]\n",
      "23        (2004.222, 2010.111]\n",
      "26          (2010.111, 2016.0]\n",
      "27          (2010.111, 2016.0]\n",
      "32          (2010.111, 2016.0]\n",
      "33        (2004.222, 2010.111]\n",
      "34          (2010.111, 2016.0]\n",
      "35          (2010.111, 2016.0]\n",
      "36          (2010.111, 2016.0]\n",
      "37          (2010.111, 2016.0]\n",
      "39          (2010.111, 2016.0]\n",
      "41          (2010.111, 2016.0]\n",
      "42        (1992.444, 1998.333]\n",
      "43          (2010.111, 2016.0]\n",
      "45          (2010.111, 2016.0]\n",
      "47        (2004.222, 2010.111]\n",
      "                  ...         \n",
      "231794    (1998.333, 2004.222]\n",
      "231797      (2010.111, 2016.0]\n",
      "231800      (2010.111, 2016.0]\n",
      "231801      (2010.111, 2016.0]\n",
      "231805    (1998.333, 2004.222]\n",
      "231806    (1986.556, 1992.444]\n",
      "231807    (2004.222, 2010.111]\n",
      "231808      (2010.111, 2016.0]\n",
      "231809    (1998.333, 2004.222]\n",
      "231810    (1992.444, 1998.333]\n",
      "231811      (2010.111, 2016.0]\n",
      "231812    (2004.222, 2010.111]\n",
      "231813      (2010.111, 2016.0]\n",
      "231814    (1998.333, 2004.222]\n",
      "231815      (2010.111, 2016.0]\n",
      "231817      (2010.111, 2016.0]\n",
      "231819    (1998.333, 2004.222]\n",
      "231820      (2010.111, 2016.0]\n",
      "231822      (2010.111, 2016.0]\n",
      "231825    (1998.333, 2004.222]\n",
      "231826    (1992.444, 1998.333]\n",
      "231835    (1998.333, 2004.222]\n",
      "231836      (2010.111, 2016.0]\n",
      "231837    (1992.444, 1998.333]\n",
      "231844      (2010.111, 2016.0]\n",
      "231847      (2010.111, 2016.0]\n",
      "231857    (2004.222, 2010.111]\n",
      "231862      (2010.111, 2016.0]\n",
      "231863    (2004.222, 2010.111]\n",
      "231890    (1998.333, 2004.222]\n",
      "Name: SALE_YEAR_RANGE, Length: 139692, dtype: category\n",
      "Categories (9, interval[float64]): [(1962.947, 1968.889] < (1968.889, 1974.778] < (1974.778, 1980.667] < (1980.667, 1986.556] ... (1992.444, 1998.333] < (1998.333, 2004.222] < (2004.222, 2010.111] < (2010.111, 2016.0]]\n"
     ]
    }
   ],
   "source": [
    "#Bucket that into five year increments\n",
    "df2['SALE_YEAR_RANGE'] = pd.cut(df2['SALE_YEAR'], 9)\n",
    "\n",
    "print(df2.SALE_YEAR_RANGE)"
   ]
  },
  {
   "cell_type": "code",
   "execution_count": 72,
   "metadata": {},
   "outputs": [
    {
     "data": {
      "text/plain": [
       "9"
      ]
     },
     "execution_count": 72,
     "metadata": {},
     "output_type": "execute_result"
    }
   ],
   "source": [
    "#Now we have nine year ranges instead of 45 different years.\n",
    "df2.SALE_YEAR_RANGE.nunique()"
   ]
  },
  {
   "cell_type": "code",
   "execution_count": 64,
   "metadata": {},
   "outputs": [
    {
     "data": {
      "text/plain": [
       "array(['SINGLE FAMILY', 'RESTAURANT', 'ROWHOUSE', 'APT W/2 UNITS',\n",
       "       'CONDOMINIUM', 'APT W/6 UNITS', 'WAREHOUSE', 'OFFICE CONVRSN',\n",
       "       'APT LOW-RISE>9UNT, WALK-UP', 'APT W/3 UNITS', 'OFFICE CONDO',\n",
       "       'OFFICE W/RESID', 'RETAIL, SINGLE', '101 CONDO PKG', 'OFFICE BLDG',\n",
       "       'RETAIL CONVRSN', 'APT W/4 UNITS', 'CARWASH SMALL-COIN OPER',\n",
       "       'MANUFACTURING', 'SCHOOL', 'RETAIL, MULTI', 'VCNT LAND',\n",
       "       'PBG MID-RISE, EL, 1-9 STY', 'MISC IMPS-TIE BACK', 'MINI-STORAGE',\n",
       "       'MISC. SITE IMPROVEMENTS', 'MISC ROWHOUSE IMPS', 'REST. CONDO',\n",
       "       'HOTEL-SMALL OVER 1ST FLR COMM', 'VCNT LAND R-X ZONE',\n",
       "       '10S CONDO STORAGE', 'VCNT LAND - RES RATIO', 'GAS STATION',\n",
       "       'DCL MISC RES IMPS', 'APT HIGH-RISE>9 UNT,10+ST',\n",
       "       'PBG LOW-RISE, WALK-UP', 'APT W/5 UNITS', 'RETAIL CONDO',\n",
       "       'GROUP/BOARDING HOME-1 KIT', 'CONV. RETAIL', 'AUTO SERVICE',\n",
       "       'RETAIL W/RESID', 'MEDICAL BLDG', 'CHURCH BUILT AS CHURCH',\n",
       "       'SPECIAL PURPOSE', 'FOOD PROCESS', 'REST. W/RESID',\n",
       "       'AUTO DEARLER CONV FROM SS', 'APT W/8 UNITS', 'LIBRARY',\n",
       "       'APT MISC, PKG, CLUBHOUSES', 'SHOPPETTE', 'NURSING HOME',\n",
       "       'SHOPPING CENTER BLDG', 'HOTEL - LARGE CHAIN/CONF',\n",
       "       'VCNT LAND I-0 ZONE', 'FACTORY', 'AUTO DEALER LARGE',\n",
       "       'APT MID-RISE>9 UNT,1-9STY', 'SENIOR CITIZEN APARTMENT',\n",
       "       'DEPT/SUPERMKT', 'PARKING GARAGE 1 STORY',\n",
       "       'CHURCH-CONV FRO OTH USE', 'WAREHOUSE C&R',\n",
       "       'AUTO DEAL W/OTHER USE', 'AUTO DEAL SALES OFC ONLY',\n",
       "       'KENNELS-MEDIUM', 'FRANCHISE REST', 'MEETING HALL', 'FIRE STATION',\n",
       "       'MOTEL - INDEPENDENT', 'CARWASH - LARGE', 'MIXED USE-MOTEL/RESD',\n",
       "       'MEAT PACKING', 'HEALTH SPA', 'MINI-DISCOUNT',\n",
       "       'PRESCHOOLER NURSERY', 'APT W/7 UNITS', 'ANIMAL GROOMING-SMALL',\n",
       "       'MIXED USE-HOTEL/RESD', 'AUTO DEALER MED SHOWROOM',\n",
       "       'REST. CONVRSN', 'PBG ON MORE THAN 1 PARCEL',\n",
       "       'CARWASH MEDIUM-LINE ATTND', 'AUTO/TRUCK TERMINAL 2 STORY',\n",
       "       'DRY CLEANING', 'GREENHOUSE LARGE', 'AUTO SVC. W/RES',\n",
       "       'MIXED USE-SOCIAL/RESD', 'MOTEL - CHAIN/CONF/REST', 'LAUNDROMAT',\n",
       "       'MIXED USE-MISC IMPS/RESD', 'PBG HIGH-RISE, EL, 10+STY',\n",
       "       'THEATER LARGE', 'AUTO/TRUCK TERMINAL 1 STORY',\n",
       "       'MOTEL - OLD COURT STYPE', 'JAIL', 'OTHER REC FACILITIES',\n",
       "       'MEDICAL CLINIC', 'MOTEL - CHAIN MIN AMENITIES',\n",
       "       'HOTEL - MINIMAL AMENITIES', 'FINANCIAL BLDG',\n",
       "       'CITY CLUB W/SLEEPING', 'GENERAL COMMON ELEMENTS',\n",
       "       'BROADCAST FACILITY', 'SINGLE FAMILY MISC/LIV', 'MORTUARIES',\n",
       "       'HOTEL - RESIDENCE/SUITE', 'PARKING GARAGE 8 STORY',\n",
       "       'VCNT LAND W/MINOR STR', 'MIXED USE-AUTO DEALER/RESD',\n",
       "       'BOWLING LANE', 'MEDICAL W/RESD', 'CEMETERY BUILDING', 'HOSPITALS',\n",
       "       'BRICK PLANT', 'MEDICAL CONDO', 'APARTMENT UNIT W/COMM',\n",
       "       'THEATER SMALL', 'FINANCL CONDO', 'VCNT LAND R-2, RS-2 ZONE',\n",
       "       'THEATER MEDIUM', 'MISC MOBILE HOME PARK/IMP'], dtype=object)"
      ]
     },
     "execution_count": 64,
     "metadata": {},
     "output_type": "execute_result"
    }
   ],
   "source": [
    "#Let's look at the structure type variable\n",
    "df2.D_CLASS_CN.unique()"
   ]
  },
  {
   "cell_type": "code",
   "execution_count": 63,
   "metadata": {},
   "outputs": [
    {
     "data": {
      "text/plain": [
       "123"
      ]
     },
     "execution_count": 63,
     "metadata": {},
     "output_type": "execute_result"
    }
   ],
   "source": [
    "len(df2.D_CLASS_CN.unique())"
   ]
  },
  {
   "cell_type": "markdown",
   "metadata": {},
   "source": [
    "It looks like we have a lot of different naming types for structures, so since we already have the zoning type\n",
    "to use as a feature, let's leave that data as descriptive since classifying each different structure type will be\n",
    "too time consuming"
   ]
  },
  {
   "cell_type": "code",
   "execution_count": 198,
   "metadata": {},
   "outputs": [],
   "source": [
    "#So now we have three categorical variables to turn into features: range of year sold, zoning district, and zip code\n",
    "#First, let's use the one hot method to turn these three variables into features\n",
    "\n",
    "# Create dummies and create a data frames to hold our features.\n",
    "features = pd.get_dummies(df2['ZONING_DISTRICT'])\n",
    "features2 = pd.get_dummies(df2['SITUS_ZIP'])\n",
    "features3 = pd.get_dummies(df2['SALE_YEAR_RANGE'])\n"
   ]
  },
  {
   "cell_type": "code",
   "execution_count": 106,
   "metadata": {},
   "outputs": [],
   "source": [
    "#bin the zones into zoning contexts\n",
    "features['Suburban, Urban Edge and Urban Neighborhood'] = np.where((df2['ZONING_DISTRICT'].isin(['Suburban', 'Urban Edge','Urban'])), 1, 0)\n",
    "features['General Urban, Urban Center and Downtown Neighborhood'] = np.where(df2['ZONING_DISTRICT'].isin(['General Urban', 'Urban Center','Downtown']), 1, 0)\n",
    "features['Special Contexts and Zone Districts'] = np.where(df2['ZONING_DISTRICT'].isin(\n",
    "    ['Campus',\n",
    "   'Open Space',\n",
    "   'Master Planned',\n",
    "    'Use Overlay District',\n",
    "    'Conservation Overlay District',\n",
    "   'Design Overlay District',\n",
    "   'Incentive Overlay District',\n",
    "   'Airport Influence Overlay District',\n",
    "    'Planned Unit Development',\n",
    "    'Denver International Airport',\n",
    "   'Open Zone District',\n",
    "    'Residential',\n",
    "    'Other']), 1, 0)\n",
    "\n"
   ]
  },
  {
   "cell_type": "code",
   "execution_count": 190,
   "metadata": {},
   "outputs": [
    {
     "data": {
      "image/png": "[encoded data removed]",
      "text/plain": [
       "<Figure size 432x288 with 2 Axes>"
      ]
     },
     "metadata": {
      "needs_background": "light"
     },
     "output_type": "display_data"
    },
    {
     "name": "stdout",
     "output_type": "stream",
     "text": [
      "                                                    TOTAL_VALUE  \\\n",
      "TOTAL_VALUE                                            1.000000   \n",
      "General Urban, Urban Center and Downtown Neighb...     0.051526   \n",
      "Suburban, Urban Edge and Urban Neighborhood           -0.039819   \n",
      "Special Contexts and Zone Districts                   -0.006612   \n",
      "\n",
      "                                                    General Urban, Urban Center and Downtown Neighborhood  \\\n",
      "TOTAL_VALUE                                                                                  0.051526       \n",
      "General Urban, Urban Center and Downtown Neighb...                                           1.000000       \n",
      "Suburban, Urban Edge and Urban Neighborhood                                                 -0.494248       \n",
      "Special Contexts and Zone Districts                                                         -0.244828       \n",
      "\n",
      "                                                    Suburban, Urban Edge and Urban Neighborhood  \\\n",
      "TOTAL_VALUE                                                                           -0.039819   \n",
      "General Urban, Urban Center and Downtown Neighb...                                    -0.494248   \n",
      "Suburban, Urban Edge and Urban Neighborhood                                            1.000000   \n",
      "Special Contexts and Zone Districts                                                   -0.688474   \n",
      "\n",
      "                                                    Special Contexts and Zone Districts  \n",
      "TOTAL_VALUE                                                                   -0.006612  \n",
      "General Urban, Urban Center and Downtown Neighb...                            -0.244828  \n",
      "Suburban, Urban Edge and Urban Neighborhood                                   -0.688474  \n",
      "Special Contexts and Zone Districts                                            1.000000  \n"
     ]
    }
   ],
   "source": [
    "plotdf = df2.loc[:, ['TOTAL_VALUE']]\n",
    "plotdf['General Urban, Urban Center and Downtown Neighborhood'] = features['General Urban, Urban Center and Downtown Neighborhood'] \n",
    "plotdf['Suburban, Urban Edge and Urban Neighborhood'] = features['Suburban, Urban Edge and Urban Neighborhood'] \n",
    "plotdf['Special Contexts and Zone Districts'] = features['Special Contexts and Zone Districts']\n",
    "corrmat2 = plotdf.corr()\n",
    "sns.heatmap(corrmat2, vmax=.8, square=True)\n",
    "plt.show()\n",
    "print(corrmat2)"
   ]
  },
  {
   "cell_type": "markdown",
   "metadata": {},
   "source": [
    "#From the above correlation analysis we can see that Suburban, Urban Edge and Urban Neighborhood and Special Contexts and Zone Districts have a slightly negative impact on total land value while General Urban, Urban Center, and Downtown Neighborhoods have a slightly positive impact on total value. However, none of these correlations are very strong"
   ]
  },
  {
   "cell_type": "code",
   "execution_count": 194,
   "metadata": {},
   "outputs": [
    {
     "name": "stdout",
     "output_type": "stream",
     "text": [
      "                                                    Downtown  General Urban  \\\n",
      "Downtown                                            1.000000      -0.048713   \n",
      "General Urban                                      -0.048713       1.000000   \n",
      "Industrial                                         -0.020272      -0.035701   \n",
      "Master Planned                                     -0.015675      -0.027606   \n",
      "Open Space                                         -0.001665      -0.002932   \n",
      "Open Zone District                                 -0.019963      -0.035156   \n",
      "Other                                              -0.020492      -0.036088   \n",
      "Planned Unit Development                           -0.030295      -0.053351   \n",
      "Residential                                        -0.079011      -0.139146   \n",
      "Suburban                                           -0.072625      -0.127899   \n",
      "Urban                                              -0.092920      -0.163640   \n",
      "Urban Center                                       -0.035493      -0.062507   \n",
      "Urban Edge                                         -0.078853      -0.138867   \n",
      "Suburban, Urban Edge and Urban Neighborhood        -0.196073      -0.345301   \n",
      "General Urban, Urban Center and Downtown Neighb...  0.396710       0.698639   \n",
      "Special Contexts and Zone Districts                -0.097126      -0.171046   \n",
      "TOTAL_VALUE                                         0.090806       0.002495   \n",
      "\n",
      "                                                    Industrial  \\\n",
      "Downtown                                             -0.020272   \n",
      "General Urban                                        -0.035701   \n",
      "Industrial                                            1.000000   \n",
      "Master Planned                                       -0.011488   \n",
      "Open Space                                           -0.001220   \n",
      "Open Zone District                                   -0.014630   \n",
      "Other                                                -0.015018   \n",
      "Planned Unit Development                             -0.022202   \n",
      "Residential                                          -0.057906   \n",
      "Suburban                                             -0.053225   \n",
      "Urban                                                -0.068099   \n",
      "Urban Center                                         -0.026012   \n",
      "Urban Edge                                           -0.057790   \n",
      "Suburban, Urban Edge and Urban Neighborhood          -0.143697   \n",
      "General Urban, Urban Center and Downtown Neighb...   -0.051100   \n",
      "Special Contexts and Zone Districts                  -0.071181   \n",
      "TOTAL_VALUE                                           0.034550   \n",
      "\n",
      "                                                    Master Planned  \\\n",
      "Downtown                                                 -0.015675   \n",
      "General Urban                                            -0.027606   \n",
      "Industrial                                               -0.011488   \n",
      "Master Planned                                            1.000000   \n",
      "Open Space                                               -0.000944   \n",
      "Open Zone District                                       -0.011313   \n",
      "Other                                                    -0.011613   \n",
      "Planned Unit Development                                 -0.017168   \n",
      "Residential                                              -0.044776   \n",
      "Suburban                                                 -0.041157   \n",
      "Urban                                                    -0.052658   \n",
      "Urban Center                                             -0.020114   \n",
      "Urban Edge                                               -0.044686   \n",
      "Suburban, Urban Edge and Urban Neighborhood              -0.111115   \n",
      "General Urban, Urban Center and Downtown Neighb...       -0.039514   \n",
      "Special Contexts and Zone Districts                       0.161393   \n",
      "TOTAL_VALUE                                               0.003318   \n",
      "\n",
      "                                                    Open Space  \\\n",
      "Downtown                                             -0.001665   \n",
      "General Urban                                        -0.002932   \n",
      "Industrial                                           -0.001220   \n",
      "Master Planned                                       -0.000944   \n",
      "Open Space                                            1.000000   \n",
      "Open Zone District                                   -0.001202   \n",
      "Other                                                -0.001234   \n",
      "Planned Unit Development                             -0.001824   \n",
      "Residential                                          -0.004756   \n",
      "Suburban                                             -0.004372   \n",
      "Urban                                                -0.005593   \n",
      "Urban Center                                         -0.002137   \n",
      "Urban Edge                                           -0.004747   \n",
      "Suburban, Urban Edge and Urban Neighborhood          -0.011803   \n",
      "General Urban, Urban Center and Downtown Neighb...   -0.004197   \n",
      "Special Contexts and Zone Districts                   0.017143   \n",
      "TOTAL_VALUE                                          -0.000188   \n",
      "\n",
      "                                                    Open Zone District  \\\n",
      "Downtown                                                     -0.019963   \n",
      "General Urban                                                -0.035156   \n",
      "Industrial                                                   -0.014630   \n",
      "Master Planned                                               -0.011313   \n",
      "Open Space                                                   -0.001202   \n",
      "Open Zone District                                            1.000000   \n",
      "Other                                                        -0.014789   \n",
      "Planned Unit Development                                     -0.021864   \n",
      "Residential                                                  -0.057023   \n",
      "Suburban                                                     -0.052414   \n",
      "Urban                                                        -0.067061   \n",
      "Urban Center                                                 -0.025616   \n",
      "Urban Edge                                                   -0.056909   \n",
      "Suburban, Urban Edge and Urban Neighborhood                  -0.141507   \n",
      "General Urban, Urban Center and Downtown Neighb...           -0.050321   \n",
      "Special Contexts and Zone Districts                           0.205537   \n",
      "TOTAL_VALUE                                                  -0.015365   \n",
      "\n",
      "                                                       Other  \\\n",
      "Downtown                                           -0.020492   \n",
      "General Urban                                      -0.036088   \n",
      "Industrial                                         -0.015018   \n",
      "Master Planned                                     -0.011613   \n",
      "Open Space                                         -0.001234   \n",
      "Open Zone District                                 -0.014789   \n",
      "Other                                               1.000000   \n",
      "Planned Unit Development                           -0.022443   \n",
      "Residential                                        -0.058535   \n",
      "Suburban                                           -0.053803   \n",
      "Urban                                              -0.068839   \n",
      "Urban Center                                       -0.026295   \n",
      "Urban Edge                                         -0.058417   \n",
      "Suburban, Urban Edge and Urban Neighborhood        -0.145258   \n",
      "General Urban, Urban Center and Downtown Neighb... -0.051655   \n",
      "Special Contexts and Zone Districts                 0.210986   \n",
      "TOTAL_VALUE                                         0.033487   \n",
      "\n",
      "                                                    Planned Unit Development  \\\n",
      "Downtown                                                           -0.030295   \n",
      "General Urban                                                      -0.053351   \n",
      "Industrial                                                         -0.022202   \n",
      "Master Planned                                                     -0.017168   \n",
      "Open Space                                                         -0.001824   \n",
      "Open Zone District                                                 -0.021864   \n",
      "Other                                                              -0.022443   \n",
      "Planned Unit Development                                            1.000000   \n",
      "Residential                                                        -0.086534   \n",
      "Suburban                                                           -0.079540   \n",
      "Urban                                                              -0.101767   \n",
      "Urban Center                                                       -0.038873   \n",
      "Urban Edge                                                         -0.086361   \n",
      "Suburban, Urban Edge and Urban Neighborhood                        -0.214742   \n",
      "General Urban, Urban Center and Downtown Neighb...                 -0.076364   \n",
      "Special Contexts and Zone Districts                                 0.311910   \n",
      "TOTAL_VALUE                                                         0.014742   \n",
      "\n",
      "                                                    Residential  Suburban  \\\n",
      "Downtown                                              -0.079011 -0.072625   \n",
      "General Urban                                         -0.139146 -0.127899   \n",
      "Industrial                                            -0.057906 -0.053225   \n",
      "Master Planned                                        -0.044776 -0.041157   \n",
      "Open Space                                            -0.004756 -0.004372   \n",
      "Open Zone District                                    -0.057023 -0.052414   \n",
      "Other                                                 -0.058535 -0.053803   \n",
      "Planned Unit Development                              -0.086534 -0.079540   \n",
      "Residential                                            1.000000 -0.207449   \n",
      "Suburban                                              -0.207449  1.000000   \n",
      "Urban                                                 -0.265420 -0.243967   \n",
      "Urban Center                                          -0.101385 -0.093190   \n",
      "Urban Edge                                            -0.225239 -0.207034   \n",
      "Suburban, Urban Edge and Urban Neighborhood           -0.560070  0.370399   \n",
      "General Urban, Urban Center and Downtown Neighb...    -0.199167 -0.183069   \n",
      "Special Contexts and Zone Districts                    0.813495 -0.255010   \n",
      "TOTAL_VALUE                                           -0.020725 -0.022365   \n",
      "\n",
      "                                                       Urban  Urban Center  \\\n",
      "Downtown                                           -0.092920     -0.035493   \n",
      "General Urban                                      -0.163640     -0.062507   \n",
      "Industrial                                         -0.068099     -0.026012   \n",
      "Master Planned                                     -0.052658     -0.020114   \n",
      "Open Space                                         -0.005593     -0.002137   \n",
      "Open Zone District                                 -0.067061     -0.025616   \n",
      "Other                                              -0.068839     -0.026295   \n",
      "Planned Unit Development                           -0.101767     -0.038873   \n",
      "Residential                                        -0.265420     -0.101385   \n",
      "Suburban                                           -0.243967     -0.093190   \n",
      "Urban                                               1.000000     -0.119232   \n",
      "Urban Center                                       -0.119232      1.000000   \n",
      "Urban Edge                                         -0.264889     -0.101182   \n",
      "Suburban, Urban Edge and Urban Neighborhood         0.473905     -0.251594   \n",
      "General Urban, Urban Center and Downtown Neighb... -0.234226      0.509045   \n",
      "Special Contexts and Zone Districts                -0.326271     -0.124629   \n",
      "TOTAL_VALUE                                        -0.004455      0.014715   \n",
      "\n",
      "                                                    Urban Edge  \\\n",
      "Downtown                                             -0.078853   \n",
      "General Urban                                        -0.138867   \n",
      "Industrial                                           -0.057790   \n",
      "Master Planned                                       -0.044686   \n",
      "Open Space                                           -0.004747   \n",
      "Open Zone District                                   -0.056909   \n",
      "Other                                                -0.058417   \n",
      "Planned Unit Development                             -0.086361   \n",
      "Residential                                          -0.225239   \n",
      "Suburban                                             -0.207034   \n",
      "Urban                                                -0.264889   \n",
      "Urban Center                                         -0.101182   \n",
      "Urban Edge                                            1.000000   \n",
      "Suburban, Urban Edge and Urban Neighborhood           0.402162   \n",
      "General Urban, Urban Center and Downtown Neighb...   -0.198768   \n",
      "Special Contexts and Zone Districts                  -0.276878   \n",
      "TOTAL_VALUE                                          -0.024654   \n",
      "\n",
      "                                                    Suburban, Urban Edge and Urban Neighborhood  \\\n",
      "Downtown                                                                              -0.196073   \n",
      "General Urban                                                                         -0.345301   \n",
      "Industrial                                                                            -0.143697   \n",
      "Master Planned                                                                        -0.111115   \n",
      "Open Space                                                                            -0.011803   \n",
      "Open Zone District                                                                    -0.141507   \n",
      "Other                                                                                 -0.145258   \n",
      "Planned Unit Development                                                              -0.214742   \n",
      "Residential                                                                           -0.560070   \n",
      "Suburban                                                                               0.370399   \n",
      "Urban                                                                                  0.473905   \n",
      "Urban Center                                                                          -0.251594   \n",
      "Urban Edge                                                                             0.402162   \n",
      "Suburban, Urban Edge and Urban Neighborhood                                            1.000000   \n",
      "General Urban, Urban Center and Downtown Neighb...                                    -0.494248   \n",
      "Special Contexts and Zone Districts                                                   -0.688474   \n",
      "TOTAL_VALUE                                                                           -0.039819   \n",
      "\n",
      "                                                    General Urban, Urban Center and Downtown Neighborhood  \\\n",
      "Downtown                                                                                     0.396710       \n",
      "General Urban                                                                                0.698639       \n",
      "Industrial                                                                                  -0.051100       \n",
      "Master Planned                                                                              -0.039514       \n",
      "Open Space                                                                                  -0.004197       \n",
      "Open Zone District                                                                          -0.050321       \n",
      "Other                                                                                       -0.051655       \n",
      "Planned Unit Development                                                                    -0.076364       \n",
      "Residential                                                                                 -0.199167       \n",
      "Suburban                                                                                    -0.183069       \n",
      "Urban                                                                                       -0.234226       \n",
      "Urban Center                                                                                 0.509045       \n",
      "Urban Edge                                                                                  -0.198768       \n",
      "Suburban, Urban Edge and Urban Neighborhood                                                 -0.494248       \n",
      "General Urban, Urban Center and Downtown Neighb...                                           1.000000       \n",
      "Special Contexts and Zone Districts                                                         -0.244828       \n",
      "TOTAL_VALUE                                                                                  0.051526       \n",
      "\n",
      "                                                    Special Contexts and Zone Districts  \\\n",
      "Downtown                                                                      -0.097126   \n",
      "General Urban                                                                 -0.171046   \n",
      "Industrial                                                                    -0.071181   \n",
      "Master Planned                                                                 0.161393   \n",
      "Open Space                                                                     0.017143   \n",
      "Open Zone District                                                             0.205537   \n",
      "Other                                                                          0.210986   \n",
      "Planned Unit Development                                                       0.311910   \n",
      "Residential                                                                    0.813495   \n",
      "Suburban                                                                      -0.255010   \n",
      "Urban                                                                         -0.326271   \n",
      "Urban Center                                                                  -0.124629   \n",
      "Urban Edge                                                                    -0.276878   \n",
      "Suburban, Urban Edge and Urban Neighborhood                                   -0.688474   \n",
      "General Urban, Urban Center and Downtown Neighb...                            -0.244828   \n",
      "Special Contexts and Zone Districts                                            1.000000   \n",
      "TOTAL_VALUE                                                                   -0.006612   \n",
      "\n",
      "                                                    TOTAL_VALUE  \n",
      "Downtown                                               0.090806  \n",
      "General Urban                                          0.002495  \n",
      "Industrial                                             0.034550  \n",
      "Master Planned                                         0.003318  \n",
      "Open Space                                            -0.000188  \n",
      "Open Zone District                                    -0.015365  \n",
      "Other                                                  0.033487  \n",
      "Planned Unit Development                               0.014742  \n",
      "Residential                                           -0.020725  \n",
      "Suburban                                              -0.022365  \n",
      "Urban                                                 -0.004455  \n",
      "Urban Center                                           0.014715  \n",
      "Urban Edge                                            -0.024654  \n",
      "Suburban, Urban Edge and Urban Neighborhood           -0.039819  \n",
      "General Urban, Urban Center and Downtown Neighb...     0.051526  \n",
      "Special Contexts and Zone Districts                   -0.006612  \n",
      "TOTAL_VALUE                                            1.000000  \n"
     ]
    }
   ],
   "source": [
    "#Lets try again with less broad categories\n",
    "plotdf = features\n",
    "plotdf['TOTAL_VALUE'] = df2.TOTAL_VALUE\n",
    "corrmat3 = plotdf.corr()\n",
    "print(corrmat3)"
   ]
  },
  {
   "cell_type": "markdown",
   "metadata": {},
   "source": [
    "while none of the zoning districts have very strong correlations, we can see that downtown has the highest correlation of them all and open spaces and residential areas bring the total value down, meaning that land that can be used commercially is more valuable in the city of Denver."
   ]
  },
  {
   "cell_type": "code",
   "execution_count": 173,
   "metadata": {},
   "outputs": [
    {
     "data": {
      "image/png": "[encoded data removed]",
      "text/plain": [
       "<Figure size 432x288 with 2 Axes>"
      ]
     },
     "metadata": {
      "needs_background": "light"
     },
     "output_type": "display_data"
    },
    {
     "name": "stdout",
     "output_type": "stream",
     "text": [
      "             TOTAL_VALUE  1962-1968  1969-1974  1975-1980  1981-1986  \\\n",
      "TOTAL_VALUE     1.000000   0.090806   0.002495   0.034550   0.003318   \n",
      "1962-1968       0.090806   1.000000  -0.048713  -0.020272  -0.015675   \n",
      "1969-1974       0.002495  -0.048713   1.000000  -0.035701  -0.027606   \n",
      "1975-1980       0.034550  -0.020272  -0.035701   1.000000  -0.011488   \n",
      "1981-1986       0.003318  -0.015675  -0.027606  -0.011488   1.000000   \n",
      "1987-1992      -0.000188  -0.001665  -0.002932  -0.001220  -0.000944   \n",
      "1993-1998      -0.015365  -0.019963  -0.035156  -0.014630  -0.011313   \n",
      "1998-2004       0.033487  -0.020492  -0.036088  -0.015018  -0.011613   \n",
      "2004-2010       0.014742  -0.030295  -0.053351  -0.022202  -0.017168   \n",
      "2010-2016      -0.020725  -0.079011  -0.139146  -0.057906  -0.044776   \n",
      "\n",
      "             1987-1992  1993-1998  1998-2004  2004-2010  2010-2016  \n",
      "TOTAL_VALUE  -0.000188  -0.015365   0.033487   0.014742  -0.020725  \n",
      "1962-1968    -0.001665  -0.019963  -0.020492  -0.030295  -0.079011  \n",
      "1969-1974    -0.002932  -0.035156  -0.036088  -0.053351  -0.139146  \n",
      "1975-1980    -0.001220  -0.014630  -0.015018  -0.022202  -0.057906  \n",
      "1981-1986    -0.000944  -0.011313  -0.011613  -0.017168  -0.044776  \n",
      "1987-1992     1.000000  -0.001202  -0.001234  -0.001824  -0.004756  \n",
      "1993-1998    -0.001202   1.000000  -0.014789  -0.021864  -0.057023  \n",
      "1998-2004    -0.001234  -0.014789   1.000000  -0.022443  -0.058535  \n",
      "2004-2010    -0.001824  -0.021864  -0.022443   1.000000  -0.086534  \n",
      "2010-2016    -0.004756  -0.057023  -0.058535  -0.086534   1.000000  \n"
     ]
    }
   ],
   "source": [
    "#Next lets looks at the year the parcel was sold to so if the year ranges influence the total value\n",
    "plotdf = df2.loc[:, ['TOTAL_VALUE']]\n",
    "plotdf['1962-1968'] = features.iloc[:,0]\n",
    "plotdf['1969-1974'] = features.iloc[:,1]\n",
    "plotdf['1975-1980'] = features.iloc[:,2]\n",
    "plotdf['1981-1986'] = features.iloc[:,3]\n",
    "plotdf['1987-1992'] = features.iloc[:,4]\n",
    "plotdf['1993-1998'] = features.iloc[:,5]\n",
    "plotdf['1998-2004'] = features.iloc[:,6]\n",
    "plotdf['2004-2010'] = features.iloc[:,7]\n",
    "plotdf['2010-2016'] = features.iloc[:,8]\n",
    "corrmat3 = plotdf.corr()\n",
    "sns.heatmap(corrmat3, vmax=.8, square=True)\n",
    "plt.show()\n",
    "print(corrmat3)"
   ]
  },
  {
   "cell_type": "markdown",
   "metadata": {},
   "source": [
    "#Looks like sale year does not have very much of an impact on total value for the parcel. However the largest correlation is a positive correlation from the earliest years. This means that older land parcels are slightly more valuble, likely because they are bigger. "
   ]
  },
  {
   "cell_type": "code",
   "execution_count": 195,
   "metadata": {},
   "outputs": [
    {
     "name": "stdout",
     "output_type": "stream",
     "text": [
      "                80012     80014     80022     80033     80123     80202  \\\n",
      "80012        1.000000 -0.000050 -0.000027 -0.000019 -0.001129 -0.001297   \n",
      "80014       -0.000050  1.000000 -0.000027 -0.000019 -0.001129 -0.001297   \n",
      "80022       -0.000027 -0.000027  1.000000 -0.000010 -0.000603 -0.000693   \n",
      "80033       -0.000019 -0.000019 -0.000010  1.000000 -0.000427 -0.000490   \n",
      "80123       -0.001129 -0.001129 -0.000603 -0.000427  1.000000 -0.029216   \n",
      "80202       -0.001297 -0.001297 -0.000693 -0.000490 -0.029216  1.000000   \n",
      "80203       -0.001238 -0.001238 -0.000662 -0.000468 -0.027889 -0.032043   \n",
      "80204       -0.001355 -0.001355 -0.000724 -0.000512 -0.030513 -0.035058   \n",
      "80205       -0.001554 -0.001554 -0.000831 -0.000587 -0.035002 -0.040216   \n",
      "80206       -0.001403 -0.001403 -0.000750 -0.000530 -0.031608 -0.036317   \n",
      "80207       -0.001347 -0.001347 -0.000720 -0.000509 -0.030333 -0.034852   \n",
      "80209       -0.001556 -0.001556 -0.000832 -0.000588 -0.035056 -0.040279   \n",
      "80210       -0.001892 -0.001892 -0.001011 -0.000715 -0.042618 -0.048968   \n",
      "80211       -0.001777 -0.001777 -0.000950 -0.000672 -0.040035 -0.045999   \n",
      "80212       -0.001261 -0.001261 -0.000674 -0.000477 -0.028408 -0.032640   \n",
      "80214       -0.000128 -0.000128 -0.000069 -0.000049 -0.002894 -0.003325   \n",
      "80216       -0.000873 -0.000873 -0.000466 -0.000330 -0.019657 -0.022586   \n",
      "80218       -0.001310 -0.001310 -0.000700 -0.000495 -0.029511 -0.033908   \n",
      "80219       -0.001993 -0.001993 -0.001065 -0.000753 -0.044884 -0.051571   \n",
      "80220       -0.001796 -0.001796 -0.000960 -0.000679 -0.040465 -0.046493   \n",
      "80221       -0.000698 -0.000698 -0.000373 -0.000264 -0.015723 -0.018065   \n",
      "80222       -0.001228 -0.001228 -0.000656 -0.000464 -0.027666 -0.031788   \n",
      "80223       -0.001200 -0.001200 -0.000642 -0.000454 -0.027038 -0.031067   \n",
      "80224       -0.001143 -0.001143 -0.000611 -0.000432 -0.025757 -0.029595   \n",
      "80226       -0.000130 -0.000130 -0.000069 -0.000049 -0.002925 -0.003361   \n",
      "80227       -0.000750 -0.000750 -0.000401 -0.000283 -0.016891 -0.019408   \n",
      "80230       -0.000843 -0.000843 -0.000451 -0.000319 -0.018998 -0.021828   \n",
      "80231       -0.001215 -0.001215 -0.000649 -0.000459 -0.027371 -0.031449   \n",
      "80232       -0.000087 -0.000087 -0.000046 -0.000033 -0.001955 -0.002247   \n",
      "80235       -0.000588 -0.000588 -0.000314 -0.000222 -0.013251 -0.015225   \n",
      "80236       -0.000998 -0.000998 -0.000534 -0.000377 -0.022484 -0.025833   \n",
      "80237       -0.001258 -0.001258 -0.000672 -0.000476 -0.028339 -0.032562   \n",
      "80238       -0.001487 -0.001487 -0.000795 -0.000562 -0.033489 -0.038478   \n",
      "80239       -0.001518 -0.001518 -0.000811 -0.000574 -0.034194 -0.039288   \n",
      "80246       -0.000647 -0.000647 -0.000346 -0.000245 -0.014579 -0.016751   \n",
      "80247       -0.001156 -0.001156 -0.000618 -0.000437 -0.026046 -0.029926   \n",
      "80249       -0.001620 -0.001620 -0.000866 -0.000612 -0.036485 -0.041920   \n",
      "80264       -0.000027 -0.000027 -0.000014 -0.000010 -0.000603 -0.000693   \n",
      "80265       -0.000019 -0.000019 -0.000010 -0.000007 -0.000427 -0.000490   \n",
      "80274       -0.000019 -0.000019 -0.000010 -0.000007 -0.000427 -0.000490   \n",
      "80290       -0.000019 -0.000019 -0.000010 -0.000007 -0.000427 -0.000490   \n",
      "80293       -0.000033 -0.000033 -0.000018 -0.000012 -0.000739 -0.000849   \n",
      "80294       -0.000019 -0.000019 -0.000010 -0.000007 -0.000427 -0.000490   \n",
      "CO          -0.000038 -0.000038 -0.000020 -0.000014 -0.000853 -0.000980   \n",
      "CO 80       -0.000054 -0.000054 -0.000029 -0.000020 -0.001207 -0.001387   \n",
      "TOTAL_VALUE  0.007583  0.065261  0.000057 -0.000120 -0.009720  0.079865   \n",
      "\n",
      "                80203     80204     80205     80206     ...          80249  \\\n",
      "80012       -0.001238 -0.001355 -0.001554 -0.001403     ...      -0.001620   \n",
      "80014       -0.001238 -0.001355 -0.001554 -0.001403     ...      -0.001620   \n",
      "80022       -0.000662 -0.000724 -0.000831 -0.000750     ...      -0.000866   \n",
      "80033       -0.000468 -0.000512 -0.000587 -0.000530     ...      -0.000612   \n",
      "80123       -0.027889 -0.030513 -0.035002 -0.031608     ...      -0.036485   \n",
      "80202       -0.032043 -0.035058 -0.040216 -0.036317     ...      -0.041920   \n",
      "80203        1.000000 -0.033465 -0.038389 -0.034667     ...      -0.040015   \n",
      "80204       -0.033465  1.000000 -0.042001 -0.037928     ...      -0.043780   \n",
      "80205       -0.038389 -0.042001  1.000000 -0.043509     ...      -0.050221   \n",
      "80206       -0.034667 -0.037928 -0.043509  1.000000     ...      -0.045352   \n",
      "80207       -0.033268 -0.036398 -0.041753 -0.037705     ...      -0.043522   \n",
      "80209       -0.038448 -0.042066 -0.048255 -0.043576     ...      -0.050299   \n",
      "80210       -0.046743 -0.051140 -0.058664 -0.052976     ...      -0.061150   \n",
      "80211       -0.043909 -0.048040 -0.055108 -0.049765     ...      -0.057443   \n",
      "80212       -0.031157 -0.034088 -0.039103 -0.035312     ...      -0.040760   \n",
      "80214       -0.003174 -0.003473 -0.003984 -0.003598     ...      -0.004153   \n",
      "80216       -0.021559 -0.023588 -0.027058 -0.024435     ...      -0.028205   \n",
      "80218       -0.032367 -0.035412 -0.040622 -0.036683     ...      -0.042343   \n",
      "80219       -0.049228 -0.053859 -0.061783 -0.055793     ...      -0.064401   \n",
      "80220       -0.044380 -0.048556 -0.055700 -0.050299     ...      -0.058060   \n",
      "80221       -0.017244 -0.018867 -0.021643 -0.019544     ...      -0.022560   \n",
      "80222       -0.030343 -0.033198 -0.038082 -0.034390     ...      -0.039696   \n",
      "80223       -0.029655 -0.032445 -0.037218 -0.033610     ...      -0.038795   \n",
      "80224       -0.028250 -0.030908 -0.035455 -0.032017     ...      -0.036957   \n",
      "80226       -0.003209 -0.003510 -0.004027 -0.003636     ...      -0.004198   \n",
      "80227       -0.018526 -0.020269 -0.023251 -0.020996     ...      -0.024236   \n",
      "80230       -0.020836 -0.022797 -0.026151 -0.023615     ...      -0.027259   \n",
      "80231       -0.030020 -0.032845 -0.037677 -0.034024     ...      -0.039273   \n",
      "80232       -0.002145 -0.002346 -0.002691 -0.002431     ...      -0.002806   \n",
      "80235       -0.014533 -0.015901 -0.018240 -0.016471     ...      -0.019013   \n",
      "80236       -0.024659 -0.026980 -0.030949 -0.027948     ...      -0.032260   \n",
      "80237       -0.031082 -0.034006 -0.039009 -0.035227     ...      -0.040662   \n",
      "80238       -0.036730 -0.040186 -0.046098 -0.041628     ...      -0.048051   \n",
      "80239       -0.037503 -0.041032 -0.047068 -0.042505     ...      -0.049063   \n",
      "80246       -0.015990 -0.017494 -0.020068 -0.018122     ...      -0.020919   \n",
      "80247       -0.028566 -0.031254 -0.035852 -0.032376     ...      -0.037371   \n",
      "80249       -0.040015 -0.043780 -0.050221 -0.045352     ...       1.000000   \n",
      "80264       -0.000662 -0.000724 -0.000831 -0.000750     ...      -0.000866   \n",
      "80265       -0.000468 -0.000512 -0.000587 -0.000530     ...      -0.000612   \n",
      "80274       -0.000468 -0.000512 -0.000587 -0.000530     ...      -0.000612   \n",
      "80290       -0.000468 -0.000512 -0.000587 -0.000530     ...      -0.000612   \n",
      "80293       -0.000810 -0.000887 -0.001017 -0.000919     ...      -0.001060   \n",
      "80294       -0.000468 -0.000512 -0.000587 -0.000530     ...      -0.000612   \n",
      "CO          -0.000936 -0.001024 -0.001175 -0.001061     ...      -0.001224   \n",
      "CO 80       -0.001324 -0.001448 -0.001661 -0.001500     ...      -0.001732   \n",
      "TOTAL_VALUE  0.015811 -0.004641 -0.005995  0.020099     ...      -0.019475   \n",
      "\n",
      "                80264     80265     80274     80290     80293     80294  \\\n",
      "80012       -0.000027 -0.000019 -0.000019 -0.000019 -0.000033 -0.000019   \n",
      "80014       -0.000027 -0.000019 -0.000019 -0.000019 -0.000033 -0.000019   \n",
      "80022       -0.000014 -0.000010 -0.000010 -0.000010 -0.000018 -0.000010   \n",
      "80033       -0.000010 -0.000007 -0.000007 -0.000007 -0.000012 -0.000007   \n",
      "80123       -0.000603 -0.000427 -0.000427 -0.000427 -0.000739 -0.000427   \n",
      "80202       -0.000693 -0.000490 -0.000490 -0.000490 -0.000849 -0.000490   \n",
      "80203       -0.000662 -0.000468 -0.000468 -0.000468 -0.000810 -0.000468   \n",
      "80204       -0.000724 -0.000512 -0.000512 -0.000512 -0.000887 -0.000512   \n",
      "80205       -0.000831 -0.000587 -0.000587 -0.000587 -0.001017 -0.000587   \n",
      "80206       -0.000750 -0.000530 -0.000530 -0.000530 -0.000919 -0.000530   \n",
      "80207       -0.000720 -0.000509 -0.000509 -0.000509 -0.000882 -0.000509   \n",
      "80209       -0.000832 -0.000588 -0.000588 -0.000588 -0.001019 -0.000588   \n",
      "80210       -0.001011 -0.000715 -0.000715 -0.000715 -0.001239 -0.000715   \n",
      "80211       -0.000950 -0.000672 -0.000672 -0.000672 -0.001163 -0.000672   \n",
      "80212       -0.000674 -0.000477 -0.000477 -0.000477 -0.000826 -0.000477   \n",
      "80214       -0.000069 -0.000049 -0.000049 -0.000049 -0.000084 -0.000049   \n",
      "80216       -0.000466 -0.000330 -0.000330 -0.000330 -0.000571 -0.000330   \n",
      "80218       -0.000700 -0.000495 -0.000495 -0.000495 -0.000858 -0.000495   \n",
      "80219       -0.001065 -0.000753 -0.000753 -0.000753 -0.001304 -0.000753   \n",
      "80220       -0.000960 -0.000679 -0.000679 -0.000679 -0.001176 -0.000679   \n",
      "80221       -0.000373 -0.000264 -0.000264 -0.000264 -0.000457 -0.000264   \n",
      "80222       -0.000656 -0.000464 -0.000464 -0.000464 -0.000804 -0.000464   \n",
      "80223       -0.000642 -0.000454 -0.000454 -0.000454 -0.000786 -0.000454   \n",
      "80224       -0.000611 -0.000432 -0.000432 -0.000432 -0.000749 -0.000432   \n",
      "80226       -0.000069 -0.000049 -0.000049 -0.000049 -0.000085 -0.000049   \n",
      "80227       -0.000401 -0.000283 -0.000283 -0.000283 -0.000491 -0.000283   \n",
      "80230       -0.000451 -0.000319 -0.000319 -0.000319 -0.000552 -0.000319   \n",
      "80231       -0.000649 -0.000459 -0.000459 -0.000459 -0.000795 -0.000459   \n",
      "80232       -0.000046 -0.000033 -0.000033 -0.000033 -0.000057 -0.000033   \n",
      "80235       -0.000314 -0.000222 -0.000222 -0.000222 -0.000385 -0.000222   \n",
      "80236       -0.000534 -0.000377 -0.000377 -0.000377 -0.000653 -0.000377   \n",
      "80237       -0.000672 -0.000476 -0.000476 -0.000476 -0.000824 -0.000476   \n",
      "80238       -0.000795 -0.000562 -0.000562 -0.000562 -0.000973 -0.000562   \n",
      "80239       -0.000811 -0.000574 -0.000574 -0.000574 -0.000994 -0.000574   \n",
      "80246       -0.000346 -0.000245 -0.000245 -0.000245 -0.000424 -0.000245   \n",
      "80247       -0.000618 -0.000437 -0.000437 -0.000437 -0.000757 -0.000437   \n",
      "80249       -0.000866 -0.000612 -0.000612 -0.000612 -0.001060 -0.000612   \n",
      "80264        1.000000 -0.000010 -0.000010 -0.000010 -0.000018 -0.000010   \n",
      "80265       -0.000010  1.000000 -0.000007 -0.000007 -0.000012 -0.000007   \n",
      "80274       -0.000010 -0.000007  1.000000 -0.000007 -0.000012 -0.000007   \n",
      "80290       -0.000010 -0.000007 -0.000007  1.000000 -0.000012 -0.000007   \n",
      "80293       -0.000018 -0.000012 -0.000012 -0.000012  1.000000 -0.000012   \n",
      "80294       -0.000010 -0.000007 -0.000007 -0.000007 -0.000012  1.000000   \n",
      "CO          -0.000020 -0.000014 -0.000014 -0.000014 -0.000025 -0.000014   \n",
      "CO 80       -0.000029 -0.000020 -0.000020 -0.000020 -0.000035 -0.000020   \n",
      "TOTAL_VALUE  0.037800  0.122907  0.001380  0.063000  0.016386  0.043688   \n",
      "\n",
      "                   CO     CO 80  TOTAL_VALUE  \n",
      "80012       -0.000038 -0.000054     0.007583  \n",
      "80014       -0.000038 -0.000054     0.065261  \n",
      "80022       -0.000020 -0.000029     0.000057  \n",
      "80033       -0.000014 -0.000020    -0.000120  \n",
      "80123       -0.000853 -0.001207    -0.009720  \n",
      "80202       -0.000980 -0.001387     0.079865  \n",
      "80203       -0.000936 -0.001324     0.015811  \n",
      "80204       -0.001024 -0.001448    -0.004641  \n",
      "80205       -0.001175 -0.001661    -0.005995  \n",
      "80206       -0.001061 -0.001500     0.020099  \n",
      "80207       -0.001018 -0.001440    -0.007284  \n",
      "80209       -0.001176 -0.001664     0.017160  \n",
      "80210       -0.001430 -0.002023     0.007847  \n",
      "80211       -0.001343 -0.001900    -0.004249  \n",
      "80212       -0.000953 -0.001348    -0.004935  \n",
      "80214       -0.000097 -0.000137    -0.000249  \n",
      "80216       -0.000660 -0.000933     0.002817  \n",
      "80218       -0.000990 -0.001401     0.003430  \n",
      "80219       -0.001506 -0.002130    -0.027679  \n",
      "80220       -0.001358 -0.001920    -0.000661  \n",
      "80221       -0.000528 -0.000746    -0.008152  \n",
      "80222       -0.000928 -0.001313    -0.007668  \n",
      "80223       -0.000907 -0.001283    -0.009128  \n",
      "80224       -0.000864 -0.001222    -0.007249  \n",
      "80226       -0.000098 -0.000139    -0.001183  \n",
      "80227       -0.000567 -0.000802    -0.005442  \n",
      "80230       -0.000638 -0.000902     0.008390  \n",
      "80231       -0.000919 -0.001299    -0.008899  \n",
      "80232       -0.000066 -0.000093    -0.000040  \n",
      "80235       -0.000445 -0.000629    -0.005303  \n",
      "80236       -0.000755 -0.001067    -0.011849  \n",
      "80237       -0.000951 -0.001345     0.002019  \n",
      "80238       -0.001124 -0.001589     0.001815  \n",
      "80239       -0.001147 -0.001623    -0.008512  \n",
      "80246       -0.000489 -0.000692     0.008948  \n",
      "80247       -0.000874 -0.001236    -0.013291  \n",
      "80249       -0.001224 -0.001732    -0.019475  \n",
      "80264       -0.000020 -0.000029     0.037800  \n",
      "80265       -0.000014 -0.000020     0.122907  \n",
      "80274       -0.000014 -0.000020     0.001380  \n",
      "80290       -0.000014 -0.000020     0.063000  \n",
      "80293       -0.000025 -0.000035     0.016386  \n",
      "80294       -0.000014 -0.000020     0.043688  \n",
      "CO           1.000000 -0.000040     0.024314  \n",
      "CO 80       -0.000040  1.000000    -0.000258  \n",
      "TOTAL_VALUE  0.024314 -0.000258     1.000000  \n",
      "\n",
      "[46 rows x 46 columns]\n"
     ]
    }
   ],
   "source": [
    "#Next let's see if zip code is a strong indicator of total value\n",
    "features4 = pd.get_dummies(df2['SITUS_ZIP'])\n",
    "plotdf =features4\n",
    "plotdf['TOTAL_VALUE'] = df2['TOTAL_VALUE']\n",
    "corrmat3 = plotdf.corr()\n",
    "print(corrmat3)\n"
   ]
  },
  {
   "cell_type": "markdown",
   "metadata": {},
   "source": [
    "None of the zip codes have a very strong influence on total value, but the highest correlation is at zip code 80265, which is the downtown area"
   ]
  },
  {
   "cell_type": "markdown",
   "metadata": {},
   "source": [
    "After evaluating these features and variables, it is apprarant that sale price and size of improvements on the parcel are the largest drivers of total value. I think that lot size would be another driver of total value, but that information is not in the dataset. Since sale price and total value are similar, I would drop sale price and only evaluate improvement size and zoning district. "
   ]
  }
 ],
 "metadata": {
  "kernelspec": {
   "display_name": "Python 3",
   "language": "python",
   "name": "python3"
  },
  "language_info": {
   "codemirror_mode": {
    "name": "ipython",
    "version": 3
   },
   "file_extension": ".py",
   "mimetype": "text/x-python",
   "name": "python",
   "nbconvert_exporter": "python",
   "pygments_lexer": "ipython3",
   "version": "3.6.2"
  }
 },
 "nbformat": 4,
 "nbformat_minor": 2
}
